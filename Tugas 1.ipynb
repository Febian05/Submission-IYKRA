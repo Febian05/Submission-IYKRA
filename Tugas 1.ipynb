{
 "cells": [
  {
   "cell_type": "code",
   "execution_count": 1,
   "id": "4bc05c15-6c17-4755-b56a-064d114e7f83",
   "metadata": {},
   "outputs": [],
   "source": [
    "import os\n",
    "from google.cloud import storage"
   ]
  },
  {
   "cell_type": "markdown",
   "id": "9fcc2de6-6354-4cc2-8905-e35044c2f0e5",
   "metadata": {},
   "source": [
    "##### Valitdate service account"
   ]
  },
  {
   "cell_type": "code",
   "execution_count": 2,
   "id": "a1d61d0d-a2f1-4131-8b17-03cb33d8cde5",
   "metadata": {},
   "outputs": [],
   "source": [
    "os.environ[\"GOOGLE_APPLICATION_CREDENTIALS\"] = 'prismatic-cider-363006-cec37421fdb6.json'"
   ]
  },
  {
   "cell_type": "markdown",
   "id": "6141a6d0-ab6b-4544-a646-9506f266b8ef",
   "metadata": {},
   "source": [
    "##### Create storage client instance"
   ]
  },
  {
   "cell_type": "code",
   "execution_count": 3,
   "id": "e3454771-060c-43c8-b5ee-1fcde4c6ca60",
   "metadata": {},
   "outputs": [],
   "source": [
    "storage_client = storage.Client()"
   ]
  },
  {
   "cell_type": "code",
   "execution_count": 4,
   "id": "87672b6e-e9cc-4a76-8d5e-ff9c4b1c0a6c",
   "metadata": {},
   "outputs": [],
   "source": [
    "from google.cloud import storage\n",
    "import urllib.request\n",
    "\n",
    "def upload_blob(bucket_name, source_file_name, destination_blob_name):\n",
    "    try:\n",
    "        file = urllib.request.urlopen(source_file_name)\n",
    "        bucket = storage_client.get_bucket(bucket_name)\n",
    "        blob = bucket.blob(destination_blob_name)\n",
    "        blob.upload_from_string(file.read(), content_type='image/jpg')\n",
    "        return True\n",
    "    \n",
    "    except Exception as e:\n",
    "        return False"
   ]
  },
  {
   "cell_type": "code",
   "execution_count": 5,
   "id": "369bb1b9-d511-4e3c-adef-0fec0340d3d7",
   "metadata": {},
   "outputs": [
    {
     "data": {
      "text/plain": [
       "True"
      ]
     },
     "execution_count": 5,
     "metadata": {},
     "output_type": "execute_result"
    }
   ],
   "source": [
    "project_id = 'prismatic-cider-363006'\n",
    "bucket_name = 'fellowship_data_bucket-777'\n",
    "destination_blob_name = 'upload1.test'\n",
    "\n",
    "source_file_name = 'https://upload.wikimedia.org/wikipedia/commons/b/b4/Donald_Trump_%2843627683740%29.jpg'\n",
    "\n",
    "# Run Function\n",
    "upload_blob(bucket_name, source_file_name, destination_blob_name)"
   ]
  },
  {
   "cell_type": "code",
   "execution_count": null,
   "id": "86be29bd-c595-49c9-885d-701432de6a6e",
   "metadata": {},
   "outputs": [],
   "source": []
  }
 ],
 "metadata": {
  "kernelspec": {
   "display_name": "penv",
   "language": "python",
   "name": "penv"
  },
  "language_info": {
   "codemirror_mode": {
    "name": "ipython",
    "version": 3
   },
   "file_extension": ".py",
   "mimetype": "text/x-python",
   "name": "python",
   "nbconvert_exporter": "python",
   "pygments_lexer": "ipython3",
   "version": "3.10.4"
  },
  "widgets": {
   "application/vnd.jupyter.widget-state+json": {
    "state": {},
    "version_major": 2,
    "version_minor": 0
   }
  }
 },
 "nbformat": 4,
 "nbformat_minor": 5
}
